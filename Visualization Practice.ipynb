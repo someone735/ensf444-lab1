{
 "cells": [
  {
   "cell_type": "markdown",
   "metadata": {},
   "source": [
    "# Visualization\n",
    "\n",
    "Using the heart-attack.csv example below, fill in the code blocks for a new dataset, auto-mpg\n",
    "\n",
    "The first step is to download the auto-mpg data set (auto-mpg.data and auto-mpg.names) from UCI: https://archive.ics.uci.edu/ml/datasets/Auto%2BMPG\n",
    "\n",
    "In this file, replace gender with origin and age with mpg"
   ]
  },
  {
   "cell_type": "markdown",
   "metadata": {},
   "source": [
    "## Resources\n",
    "1. Ch 9 in Python for Data Analysis, 2nd Ed, Wes McKinney (UCalgary library and https://github.com/wesm/pydata-book)\n",
    "2. Ch 4 in Python Data Science Handbook, Jake VanderPlas (Ucalgary library and https://github.com/jakevdp/PythonDataScienceHandbook)\n",
    "3. Fundamentals of Data Visualization, Claus O. Wilke (Ucalgary library and https://serialmentor.com/dataviz/index.html)\n",
    "4. Overview by Jake VanderPlas https://www.youtube.com/watch?v=FytuB8nFHPQ"
   ]
  },
  {
   "cell_type": "markdown",
   "metadata": {},
   "source": [
    "## Matplotlib\n",
    "> Matplotlib is a Python 2D plotting library which produces publication quality figures in a variety of hardcopy formats and interactive environments across platforms.  \n",
    "Matplotlib tries to make easy things easy and hard things possible.  \n",
    "For simple plotting the pyplot module provides a MATLAB-like interface\n",
    "\n",
    "https://matplotlib.org\n",
    "\n",
    "Importing matplotlib looks like this"
   ]
  },
  {
   "cell_type": "code",
   "execution_count": null,
   "metadata": {},
   "outputs": [],
   "source": [
    "%matplotlib inline\n",
    "\n",
    "import numpy as np\n",
    "import pandas as pd\n",
    "import matplotlib.pyplot as plt\n",
    "\n",
    "import warnings\n",
    "warnings.filterwarnings('ignore')"
   ]
  },
  {
   "cell_type": "markdown",
   "metadata": {},
   "source": [
    "### Two interfaces\n",
    "There are two ways to interact with Matplot lib: a Matlab style and an object oriented style interface.\n",
    "\n",
    "See Ch 4 in Python Data Science Handbook, Jake VanderPlas\n",
    "\n",
    "- Two Interfaces for the Price of One, pp. 222\n",
    "- Matplotlib Gotchas, pp. 232"
   ]
  },
  {
   "cell_type": "markdown",
   "metadata": {},
   "source": [
    "## Plotting with pandas\n",
    "> We use the standard convention for referencing the matplotlib API ...\n",
    "> We provide the basics in pandas to easily create decent looking plots. \n",
    "\n",
    "https://pandas.pydata.org/pandas-docs/stable/user_guide/visualization.html\n",
    "\n",
    "Let's load the required dataset:"
   ]
  },
  {
   "cell_type": "code",
   "execution_count": null,
   "metadata": {},
   "outputs": [],
   "source": [
    "# Replace code below with code to load auto-mpg dataset\n",
    "# Hint: Use attribute information from website to determine column names\n",
    "# Hint: Load with na_values = '?' and sep=r'\\s+'\n",
    "data = pd.read_csv('heart-attack.csv', na_values='?')"
   ]
  },
  {
   "cell_type": "markdown",
   "metadata": {},
   "source": [
    "Plotting all columns, works, but does not provide a lot of insight."
   ]
  },
  {
   "cell_type": "code",
   "execution_count": null,
   "metadata": {},
   "outputs": [],
   "source": [
    "data.plot()"
   ]
  },
  {
   "cell_type": "markdown",
   "metadata": {},
   "source": [
    "Let's look at one distribution (a histogram)"
   ]
  },
  {
   "cell_type": "code",
   "execution_count": null,
   "metadata": {
    "scrolled": true
   },
   "outputs": [],
   "source": [
    "# Replace variables to correspond to auto-mpg dataset\n",
    "data['age'].plot.hist();"
   ]
  },
  {
   "cell_type": "markdown",
   "metadata": {},
   "source": [
    "How many samples do we have for each origin?"
   ]
  },
  {
   "cell_type": "code",
   "execution_count": null,
   "metadata": {},
   "outputs": [],
   "source": [
    "# Replace variables to correspond to auto-mpg dataset\n",
    "data.gender.value_counts()"
   ]
  },
  {
   "cell_type": "markdown",
   "metadata": {},
   "source": [
    "  Plotting multiple histograms directly from the dataframe:"
   ]
  },
  {
   "cell_type": "code",
   "execution_count": null,
   "metadata": {},
   "outputs": [],
   "source": [
    "# Replace variables to correspond to auto-mpg dataset\n",
    "axs = data.hist(column='age', by='gender')"
   ]
  },
  {
   "cell_type": "markdown",
   "metadata": {},
   "source": [
    "To format this plot, we can work on the axes (array) that is returned by the plot call. We use Matplotlib object oriented interface methods to do this"
   ]
  },
  {
   "cell_type": "code",
   "execution_count": null,
   "metadata": {},
   "outputs": [],
   "source": [
    "# Replace variables to correspond to auto-mpg dataset\n",
    "# Hint: may need to use .flatten()\n",
    "axs = data.hist(column='age', by='gender')\n",
    "axs[0].set(title='female', ylim=[0, 45])\n",
    "axs[1].set(title='male', ylim=[0, 45]);"
   ]
  },
  {
   "cell_type": "markdown",
   "metadata": {},
   "source": [
    "Are mpg and weight correlated? Maybe it is for different origins?\n",
    "Let's have a look with a scatter plot."
   ]
  },
  {
   "cell_type": "code",
   "execution_count": null,
   "metadata": {},
   "outputs": [],
   "source": [
    "# Replace variables to correspond to auto-mpg dataset\n",
    "data.plot.scatter('age', 'trestbps', c='gender', colormap='winter');"
   ]
  },
  {
   "cell_type": "markdown",
   "metadata": {},
   "source": [
    "It is a bit annoying that there is a colorbar, as we know the origin is categorical.\n",
    "\n",
    "One way to avoid the colorbar is to loop over the categories and assign colors based on the category.\n",
    "\n",
    "See:\n",
    "https://stackoverflow.com/questions/26139423/plot-different-color-for-different-categorical-levels-using-matplotlib"
   ]
  },
  {
   "cell_type": "code",
   "execution_count": null,
   "metadata": {},
   "outputs": [],
   "source": [
    "# Replace variables to correspond to auto-mpg dataset\n",
    "colors = {0: 'tab:blue', 1: 'tab:orange'}\n",
    "fig, ax = plt.subplots()\n",
    "for key, group in data.groupby(by='gender'):\n",
    "    group.plot.scatter('age', 'trestbps', c=colors[key], label=key, ax=ax);"
   ]
  },
  {
   "cell_type": "markdown",
   "metadata": {},
   "source": [
    "## Seaborn \n",
    ">Seaborn is a Python data visualization library based on matplotlib. It provides a high-level interface for drawing attractive and informative statistical graphics.\n",
    "\n",
    "http://seaborn.pydata.org/index.html\n",
    "\n",
    "Seaborn is usually imported as `sns`"
   ]
  },
  {
   "cell_type": "code",
   "execution_count": null,
   "metadata": {},
   "outputs": [],
   "source": [
    "import seaborn as sns"
   ]
  },
  {
   "cell_type": "markdown",
   "metadata": {},
   "source": [
    "Let's re-create the histograms with seaborn with the figure level `displot()` function."
   ]
  },
  {
   "cell_type": "code",
   "execution_count": null,
   "metadata": {},
   "outputs": [],
   "source": [
    "# Replace variables to correspond to auto-mpg dataset\n",
    "sns.displot(x='age', col='gender', data=data);"
   ]
  },
  {
   "cell_type": "markdown",
   "metadata": {},
   "source": [
    "We can display the counts in the same plot, one on top of the other."
   ]
  },
  {
   "cell_type": "code",
   "execution_count": null,
   "metadata": {},
   "outputs": [],
   "source": [
    "# Replace variables to correspond to auto-mpg dataset\n",
    "sns.displot(x='age', hue='gender', data=data);"
   ]
  },
  {
   "cell_type": "markdown",
   "metadata": {},
   "source": [
    "To have an idea of the split between origins, we can stack the counts, adding up to total."
   ]
  },
  {
   "cell_type": "code",
   "execution_count": null,
   "metadata": {},
   "outputs": [],
   "source": [
    "# Replace variables to correspond to auto-mpg dataset\n",
    "sns.displot(x='age', hue='gender', data=data, multiple='stack');"
   ]
  },
  {
   "cell_type": "markdown",
   "metadata": {},
   "source": [
    "We can look at the differences with a boxplot too"
   ]
  },
  {
   "cell_type": "code",
   "execution_count": null,
   "metadata": {},
   "outputs": [],
   "source": [
    "# Replace variables to correspond to auto-mpg dataset\n",
    "sns.boxplot(x='gender', y='age', data=data);"
   ]
  },
  {
   "cell_type": "markdown",
   "metadata": {},
   "source": [
    "Let's re-create the scatter plot\n",
    "\n",
    "To make the legend show strings we will create an origin string column with origin_1, origin_2 and origin_3 strings rather than 1, 2 or 3."
   ]
  },
  {
   "cell_type": "code",
   "execution_count": null,
   "metadata": {},
   "outputs": [],
   "source": [
    "# Replace variables to correspond to auto-mpg dataset\n",
    "data['gender_str'] = data['gender'].replace([0, 1], ['female', 'male'])"
   ]
  },
  {
   "cell_type": "code",
   "execution_count": null,
   "metadata": {},
   "outputs": [],
   "source": [
    "# Replace variables to correspond to auto-mpg dataset\n",
    "ax = sns.scatterplot(x='age', y='trestbps', data=data, hue='gender_str')"
   ]
  },
  {
   "cell_type": "markdown",
   "metadata": {},
   "source": [
    "Adding a regression line helps with visualizing the relationship"
   ]
  },
  {
   "cell_type": "code",
   "execution_count": null,
   "metadata": {},
   "outputs": [],
   "source": [
    "# Replace variables to correspond to auto-mpg dataset\n",
    "ax = sns.lmplot(x='age', y='trestbps', data=data, hue='gender_str')"
   ]
  },
  {
   "cell_type": "markdown",
   "metadata": {},
   "source": [
    "Maybe there are other correlations in the data set. Pairplot is a great way to get an overview"
   ]
  },
  {
   "cell_type": "code",
   "execution_count": null,
   "metadata": {},
   "outputs": [],
   "source": [
    "# Replace variables to correspond to auto-mpg dataset\n",
    "sns.pairplot(data, vars=['age', 'trestbps', 'chol', 'thalach'], hue='gender_str');"
   ]
  },
  {
   "cell_type": "markdown",
   "metadata": {},
   "source": [
    "As an alternative, we can visualize the correlation matrix as a heatmap"
   ]
  },
  {
   "cell_type": "code",
   "execution_count": null,
   "metadata": {},
   "outputs": [],
   "source": [
    "# Replace variables to correspond to auto-mpg dataset\n",
    "g = sns.heatmap(data[['age', 'trestbps', 'chol', 'thalach']].corr(method='spearman'), \n",
    "            annot=True)"
   ]
  },
  {
   "cell_type": "markdown",
   "metadata": {},
   "source": [
    "If you need any help, check out the tutorials on the Seaborn website"
   ]
  },
  {
   "cell_type": "code",
   "execution_count": null,
   "metadata": {},
   "outputs": [],
   "source": []
  }
 ],
 "metadata": {
  "@webio": {
   "lastCommId": null,
   "lastKernelId": null
  },
  "kernelspec": {
   "display_name": "Python 3 (ipykernel)",
   "language": "python",
   "name": "python3"
  },
  "language_info": {
   "codemirror_mode": {
    "name": "ipython",
    "version": 3
   },
   "file_extension": ".py",
   "mimetype": "text/x-python",
   "name": "python",
   "nbconvert_exporter": "python",
   "pygments_lexer": "ipython3",
   "version": "3.11.5"
  }
 },
 "nbformat": 4,
 "nbformat_minor": 4
}
